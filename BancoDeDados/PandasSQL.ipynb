{
 "cells": [
  {
   "cell_type": "code",
   "execution_count": 2,
   "metadata": {},
   "outputs": [
    {
     "name": "stdout",
     "output_type": "stream",
     "text": [
      "Collecting psycopg2\n",
      "  Downloading psycopg2-2.9.9-cp311-cp311-win_amd64.whl (1.2 MB)\n",
      "                                              0.0/1.2 MB ? eta -:--:--\n",
      "     ---                                      0.1/1.2 MB 3.3 MB/s eta 0:00:01\n",
      "     ----------                               0.3/1.2 MB 4.8 MB/s eta 0:00:01\n",
      "     ---------------------                    0.6/1.2 MB 4.8 MB/s eta 0:00:01\n",
      "     ------------------------                 0.7/1.2 MB 4.1 MB/s eta 0:00:01\n",
      "     ----------------------------------       1.0/1.2 MB 4.3 MB/s eta 0:00:01\n",
      "     ------------------------------------     1.1/1.2 MB 4.0 MB/s eta 0:00:01\n",
      "     -------------------------------------    1.1/1.2 MB 3.7 MB/s eta 0:00:01\n",
      "     ---------------------------------------  1.2/1.2 MB 3.3 MB/s eta 0:00:01\n",
      "     ---------------------------------------- 1.2/1.2 MB 3.1 MB/s eta 0:00:00\n",
      "Installing collected packages: psycopg2\n",
      "Successfully installed psycopg2-2.9.9\n",
      "Note: you may need to restart the kernel to use updated packages.\n"
     ]
    }
   ],
   "source": [
    "%pip install psycopg2"
   ]
  },
  {
   "cell_type": "code",
   "execution_count": 3,
   "metadata": {},
   "outputs": [],
   "source": [
    "import pandas as pd\n",
    "import psycopg2\n",
    "from sqlalchemy import create_engine"
   ]
  },
  {
   "cell_type": "code",
   "execution_count": 5,
   "metadata": {},
   "outputs": [],
   "source": [
    "conn = psycopg2.connect( \n",
    "    host='localhost',\n",
    "    dbname='nova_roma',\n",
    "    user='postgres',\n",
    "    password='semantico43',\n",
    "    port='3306'\n",
    ")"
   ]
  },
  {
   "cell_type": "code",
   "execution_count": 7,
   "metadata": {},
   "outputs": [],
   "source": [
    "\n",
    "sql_query_professor = \"SELECT * FROM professor;\""
   ]
  },
  {
   "cell_type": "code",
   "execution_count": 9,
   "metadata": {},
   "outputs": [
    {
     "name": "stderr",
     "output_type": "stream",
     "text": [
      "C:\\Users\\cauav\\AppData\\Local\\Temp\\ipykernel_4416\\1109218761.py:1: UserWarning: pandas only supports SQLAlchemy connectable (engine/connection) or database string URI or sqlite3 DBAPI2 connection. Other DBAPI2 objects are not tested. Please consider using SQLAlchemy.\n",
      "  df = pd.read_sql_query(sql_query_professor, conn)\n"
     ]
    }
   ],
   "source": [
    "df = pd.read_sql_query(sql_query_professor, conn)"
   ]
  },
  {
   "cell_type": "code",
   "execution_count": 10,
   "metadata": {},
   "outputs": [],
   "source": [
    "conn.close()"
   ]
  },
  {
   "cell_type": "code",
   "execution_count": 20,
   "metadata": {},
   "outputs": [],
   "source": [
    "df[\"Materia\"] = 0"
   ]
  },
  {
   "cell_type": "code",
   "execution_count": 23,
   "metadata": {},
   "outputs": [
    {
     "name": "stderr",
     "output_type": "stream",
     "text": [
      "C:\\Users\\cauav\\AppData\\Local\\Temp\\ipykernel_4416\\2890327297.py:1: SettingWithCopyWarning: \n",
      "A value is trying to be set on a copy of a slice from a DataFrame\n",
      "\n",
      "See the caveats in the documentation: https://pandas.pydata.org/pandas-docs/stable/user_guide/indexing.html#returning-a-view-versus-a-copy\n",
      "  df[\"Materia\"][0]= 1\n"
     ]
    }
   ],
   "source": [
    "df[\"Materia\"][0]= 1\n"
   ]
  },
  {
   "cell_type": "code",
   "execution_count": 28,
   "metadata": {},
   "outputs": [
    {
     "ename": "IndexError",
     "evalue": "only integers, slices (`:`), ellipsis (`...`), numpy.newaxis (`None`) and integer or boolean arrays are valid indices",
     "output_type": "error",
     "traceback": [
      "\u001b[1;31m---------------------------------------------------------------------------\u001b[0m",
      "\u001b[1;31mIndexError\u001b[0m                                Traceback (most recent call last)",
      "\u001b[1;32md:\\GIt e Github\\Estudos\\BancoDeDados\\PandasSQL.ipynb Célula 9\u001b[0m line \u001b[0;36m1\n\u001b[1;32m----> <a href='vscode-notebook-cell:/d%3A/GIt%20e%20Github/Estudos/BancoDeDados/PandasSQL.ipynb#X21sZmlsZQ%3D%3D?line=0'>1</a>\u001b[0m df\u001b[39m.\u001b[39miloc[\u001b[39m0\u001b[39m, \u001b[39m\"\u001b[39m\u001b[39mMateria\u001b[39m\u001b[39m\"\u001b[39m] \u001b[39m=\u001b[39m  \u001b[39m2\u001b[39m\n",
      "File \u001b[1;32m~\\anaconda3\\Lib\\site-packages\\pandas\\core\\indexing.py:818\u001b[0m, in \u001b[0;36m_LocationIndexer.__setitem__\u001b[1;34m(self, key, value)\u001b[0m\n\u001b[0;32m    815\u001b[0m \u001b[39mself\u001b[39m\u001b[39m.\u001b[39m_has_valid_setitem_indexer(key)\n\u001b[0;32m    817\u001b[0m iloc \u001b[39m=\u001b[39m \u001b[39mself\u001b[39m \u001b[39mif\u001b[39;00m \u001b[39mself\u001b[39m\u001b[39m.\u001b[39mname \u001b[39m==\u001b[39m \u001b[39m\"\u001b[39m\u001b[39miloc\u001b[39m\u001b[39m\"\u001b[39m \u001b[39melse\u001b[39;00m \u001b[39mself\u001b[39m\u001b[39m.\u001b[39mobj\u001b[39m.\u001b[39miloc\n\u001b[1;32m--> 818\u001b[0m iloc\u001b[39m.\u001b[39m_setitem_with_indexer(indexer, value, \u001b[39mself\u001b[39m\u001b[39m.\u001b[39mname)\n",
      "File \u001b[1;32m~\\anaconda3\\Lib\\site-packages\\pandas\\core\\indexing.py:1795\u001b[0m, in \u001b[0;36m_iLocIndexer._setitem_with_indexer\u001b[1;34m(self, indexer, value, name)\u001b[0m\n\u001b[0;32m   1792\u001b[0m \u001b[39m# align and set the values\u001b[39;00m\n\u001b[0;32m   1793\u001b[0m \u001b[39mif\u001b[39;00m take_split_path:\n\u001b[0;32m   1794\u001b[0m     \u001b[39m# We have to operate column-wise\u001b[39;00m\n\u001b[1;32m-> 1795\u001b[0m     \u001b[39mself\u001b[39m\u001b[39m.\u001b[39m_setitem_with_indexer_split_path(indexer, value, name)\n\u001b[0;32m   1796\u001b[0m \u001b[39melse\u001b[39;00m:\n\u001b[0;32m   1797\u001b[0m     \u001b[39mself\u001b[39m\u001b[39m.\u001b[39m_setitem_single_block(indexer, value, name)\n",
      "File \u001b[1;32m~\\anaconda3\\Lib\\site-packages\\pandas\\core\\indexing.py:1888\u001b[0m, in \u001b[0;36m_iLocIndexer._setitem_with_indexer_split_path\u001b[1;34m(self, indexer, value, name)\u001b[0m\n\u001b[0;32m   1884\u001b[0m \u001b[39melse\u001b[39;00m:\n\u001b[0;32m   1885\u001b[0m \n\u001b[0;32m   1886\u001b[0m     \u001b[39m# scalar value\u001b[39;00m\n\u001b[0;32m   1887\u001b[0m     \u001b[39mfor\u001b[39;00m loc \u001b[39min\u001b[39;00m ilocs:\n\u001b[1;32m-> 1888\u001b[0m         \u001b[39mself\u001b[39m\u001b[39m.\u001b[39m_setitem_single_column(loc, value, pi)\n",
      "File \u001b[1;32m~\\anaconda3\\Lib\\site-packages\\pandas\\core\\indexing.py:1969\u001b[0m, in \u001b[0;36m_iLocIndexer._setitem_single_column\u001b[1;34m(self, loc, value, plane_indexer)\u001b[0m\n\u001b[0;32m   1958\u001b[0m \u001b[39m\u001b[39m\u001b[39m\"\"\"\u001b[39;00m\n\u001b[0;32m   1959\u001b[0m \n\u001b[0;32m   1960\u001b[0m \u001b[39mParameters\u001b[39;00m\n\u001b[1;32m   (...)\u001b[0m\n\u001b[0;32m   1965\u001b[0m \u001b[39m    The indexer we use for setitem along axis=0.\u001b[39;00m\n\u001b[0;32m   1966\u001b[0m \u001b[39m\"\"\"\u001b[39;00m\n\u001b[0;32m   1967\u001b[0m pi \u001b[39m=\u001b[39m plane_indexer\n\u001b[1;32m-> 1969\u001b[0m orig_values \u001b[39m=\u001b[39m \u001b[39mself\u001b[39m\u001b[39m.\u001b[39mobj\u001b[39m.\u001b[39m_get_column_array(loc)\n\u001b[0;32m   1971\u001b[0m \u001b[39m# perform the equivalent of a setitem on the info axis\u001b[39;00m\n\u001b[0;32m   1972\u001b[0m \u001b[39m# as we have a null slice or a slice with full bounds\u001b[39;00m\n\u001b[0;32m   1973\u001b[0m \u001b[39m# which means essentially reassign to the columns of a\u001b[39;00m\n\u001b[0;32m   1974\u001b[0m \u001b[39m# multi-dim object\u001b[39;00m\n\u001b[0;32m   1975\u001b[0m \u001b[39m# GH#6149 (null slice), GH#10408 (full bounds)\u001b[39;00m\n\u001b[0;32m   1976\u001b[0m \u001b[39mif\u001b[39;00m com\u001b[39m.\u001b[39mis_null_slice(pi) \u001b[39mor\u001b[39;00m com\u001b[39m.\u001b[39mis_full_slice(pi, \u001b[39mlen\u001b[39m(\u001b[39mself\u001b[39m\u001b[39m.\u001b[39mobj)):\n",
      "File \u001b[1;32m~\\anaconda3\\Lib\\site-packages\\pandas\\core\\frame.py:3745\u001b[0m, in \u001b[0;36mDataFrame._get_column_array\u001b[1;34m(self, i)\u001b[0m\n\u001b[0;32m   3737\u001b[0m \u001b[39mdef\u001b[39;00m \u001b[39m_get_column_array\u001b[39m(\u001b[39mself\u001b[39m, i: \u001b[39mint\u001b[39m) \u001b[39m-\u001b[39m\u001b[39m>\u001b[39m ArrayLike:\n\u001b[0;32m   3738\u001b[0m \u001b[39m    \u001b[39m\u001b[39m\"\"\"\u001b[39;00m\n\u001b[0;32m   3739\u001b[0m \u001b[39m    Get the values of the i'th column (ndarray or ExtensionArray, as stored\u001b[39;00m\n\u001b[0;32m   3740\u001b[0m \u001b[39m    in the Block)\u001b[39;00m\n\u001b[1;32m   (...)\u001b[0m\n\u001b[0;32m   3743\u001b[0m \u001b[39m    so this should be used with caution (for read-only purposes).\u001b[39;00m\n\u001b[0;32m   3744\u001b[0m \u001b[39m    \"\"\"\u001b[39;00m\n\u001b[1;32m-> 3745\u001b[0m     \u001b[39mreturn\u001b[39;00m \u001b[39mself\u001b[39m\u001b[39m.\u001b[39m_mgr\u001b[39m.\u001b[39miget_values(i)\n",
      "File \u001b[1;32m~\\anaconda3\\Lib\\site-packages\\pandas\\core\\internals\\managers.py:1151\u001b[0m, in \u001b[0;36mBlockManager.iget_values\u001b[1;34m(self, i)\u001b[0m\n\u001b[0;32m   1144\u001b[0m \u001b[39m\u001b[39m\u001b[39m\"\"\"\u001b[39;00m\n\u001b[0;32m   1145\u001b[0m \u001b[39mReturn the data for column i as the values (ndarray or ExtensionArray).\u001b[39;00m\n\u001b[0;32m   1146\u001b[0m \n\u001b[0;32m   1147\u001b[0m \u001b[39mWarning! The returned array is a view but doesn't handle Copy-on-Write,\u001b[39;00m\n\u001b[0;32m   1148\u001b[0m \u001b[39mso this should be used with caution.\u001b[39;00m\n\u001b[0;32m   1149\u001b[0m \u001b[39m\"\"\"\u001b[39;00m\n\u001b[0;32m   1150\u001b[0m \u001b[39m# TODO(CoW) making the arrays read-only might make this safer to use?\u001b[39;00m\n\u001b[1;32m-> 1151\u001b[0m block \u001b[39m=\u001b[39m \u001b[39mself\u001b[39m\u001b[39m.\u001b[39mblocks[\u001b[39mself\u001b[39m\u001b[39m.\u001b[39mblknos[i]]\n\u001b[0;32m   1152\u001b[0m values \u001b[39m=\u001b[39m block\u001b[39m.\u001b[39miget(\u001b[39mself\u001b[39m\u001b[39m.\u001b[39mblklocs[i])\n\u001b[0;32m   1153\u001b[0m \u001b[39mreturn\u001b[39;00m values\n",
      "\u001b[1;31mIndexError\u001b[0m: only integers, slices (`:`), ellipsis (`...`), numpy.newaxis (`None`) and integer or boolean arrays are valid indices"
     ]
    }
   ],
   "source": [
    "df.iloc[0, \"Materia\"] =  2"
   ]
  }
 ],
 "metadata": {
  "kernelspec": {
   "display_name": "Python 3 (ipykernel)",
   "language": "python",
   "name": "python3"
  },
  "language_info": {
   "codemirror_mode": {
    "name": "ipython",
    "version": 3
   },
   "file_extension": ".py",
   "mimetype": "text/x-python",
   "name": "python",
   "nbconvert_exporter": "python",
   "pygments_lexer": "ipython3",
   "version": "3.11.3"
  }
 },
 "nbformat": 4,
 "nbformat_minor": 2
}
